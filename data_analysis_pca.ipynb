{
 "cells": [
  {
   "cell_type": "markdown",
   "metadata": {},
   "source": [
    "# Data handling, exploration and pca "
   ]
  },
  {
   "cell_type": "code",
   "execution_count": 47,
   "metadata": {},
   "outputs": [],
   "source": [
    "import numpy as np\n",
    "import pandas as pd\n",
    "\n",
    "import matplotlib.pyplot as plt\n",
    "import seaborn as sns\n",
    "\n",
    "from sklearn import preprocessing\n",
    "from sklearn import decomposition\n",
    "\n",
    "from scipy import stats\n",
    "\n",
    "import time"
   ]
  },
  {
   "cell_type": "code",
   "execution_count": 2,
   "metadata": {},
   "outputs": [],
   "source": [
    "df = pd.read_csv('used.csv', index_col=0)\n",
    "#df2 = pd.read_csv('original.csv',index_col=0)"
   ]
  },
  {
   "cell_type": "code",
   "execution_count": 3,
   "metadata": {},
   "outputs": [
    {
     "data": {
      "text/html": [
       "<div>\n",
       "<style scoped>\n",
       "    .dataframe tbody tr th:only-of-type {\n",
       "        vertical-align: middle;\n",
       "    }\n",
       "\n",
       "    .dataframe tbody tr th {\n",
       "        vertical-align: top;\n",
       "    }\n",
       "\n",
       "    .dataframe thead th {\n",
       "        text-align: right;\n",
       "    }\n",
       "</style>\n",
       "<table border=\"1\" class=\"dataframe\">\n",
       "  <thead>\n",
       "    <tr style=\"text-align: right;\">\n",
       "      <th></th>\n",
       "      <th>SN_2</th>\n",
       "      <th>Questionnaire</th>\n",
       "      <th>gn</th>\n",
       "      <th>ds</th>\n",
       "      <th>District</th>\n",
       "      <th>Province</th>\n",
       "      <th>A1_1</th>\n",
       "      <th>A1_2</th>\n",
       "      <th>A1_3</th>\n",
       "      <th>A1_4</th>\n",
       "      <th>...</th>\n",
       "      <th>trust_eth</th>\n",
       "      <th>reconcile1</th>\n",
       "      <th>reconcile2</th>\n",
       "      <th>reconcile2add</th>\n",
       "      <th>reconcile1add</th>\n",
       "      <th>tol_buddhist</th>\n",
       "      <th>tol_christ</th>\n",
       "      <th>prewar</th>\n",
       "      <th>rights_sinhaleseALL</th>\n",
       "      <th>ethnic2</th>\n",
       "    </tr>\n",
       "  </thead>\n",
       "  <tbody>\n",
       "    <tr>\n",
       "      <th>1</th>\n",
       "      <td>1</td>\n",
       "      <td>1</td>\n",
       "      <td>32</td>\n",
       "      <td>33</td>\n",
       "      <td>3</td>\n",
       "      <td>1</td>\n",
       "      <td>1</td>\n",
       "      <td>2.0</td>\n",
       "      <td>3.0</td>\n",
       "      <td>5.0</td>\n",
       "      <td>...</td>\n",
       "      <td>2.0</td>\n",
       "      <td>1.559590</td>\n",
       "      <td>-0.047157</td>\n",
       "      <td>1.5</td>\n",
       "      <td>2.5</td>\n",
       "      <td>NaN</td>\n",
       "      <td>NaN</td>\n",
       "      <td>0</td>\n",
       "      <td>3.0</td>\n",
       "      <td>2.0</td>\n",
       "    </tr>\n",
       "    <tr>\n",
       "      <th>2</th>\n",
       "      <td>2</td>\n",
       "      <td>1</td>\n",
       "      <td>32</td>\n",
       "      <td>33</td>\n",
       "      <td>3</td>\n",
       "      <td>1</td>\n",
       "      <td>1</td>\n",
       "      <td>2.0</td>\n",
       "      <td>3.0</td>\n",
       "      <td>3.0</td>\n",
       "      <td>...</td>\n",
       "      <td>2.0</td>\n",
       "      <td>0.038614</td>\n",
       "      <td>-0.125119</td>\n",
       "      <td>1.5</td>\n",
       "      <td>1.5</td>\n",
       "      <td>NaN</td>\n",
       "      <td>NaN</td>\n",
       "      <td>0</td>\n",
       "      <td>3.0</td>\n",
       "      <td>2.0</td>\n",
       "    </tr>\n",
       "    <tr>\n",
       "      <th>3</th>\n",
       "      <td>3</td>\n",
       "      <td>1</td>\n",
       "      <td>32</td>\n",
       "      <td>33</td>\n",
       "      <td>3</td>\n",
       "      <td>1</td>\n",
       "      <td>1</td>\n",
       "      <td>2.0</td>\n",
       "      <td>3.0</td>\n",
       "      <td>3.0</td>\n",
       "      <td>...</td>\n",
       "      <td>2.0</td>\n",
       "      <td>0.311233</td>\n",
       "      <td>-0.532862</td>\n",
       "      <td>1.5</td>\n",
       "      <td>1.5</td>\n",
       "      <td>NaN</td>\n",
       "      <td>NaN</td>\n",
       "      <td>0</td>\n",
       "      <td>2.0</td>\n",
       "      <td>2.0</td>\n",
       "    </tr>\n",
       "    <tr>\n",
       "      <th>4</th>\n",
       "      <td>4</td>\n",
       "      <td>1</td>\n",
       "      <td>32</td>\n",
       "      <td>33</td>\n",
       "      <td>3</td>\n",
       "      <td>1</td>\n",
       "      <td>1</td>\n",
       "      <td>2.0</td>\n",
       "      <td>3.0</td>\n",
       "      <td>3.0</td>\n",
       "      <td>...</td>\n",
       "      <td>2.0</td>\n",
       "      <td>0.038614</td>\n",
       "      <td>-0.125119</td>\n",
       "      <td>1.5</td>\n",
       "      <td>1.5</td>\n",
       "      <td>NaN</td>\n",
       "      <td>NaN</td>\n",
       "      <td>0</td>\n",
       "      <td>2.0</td>\n",
       "      <td>2.0</td>\n",
       "    </tr>\n",
       "    <tr>\n",
       "      <th>5</th>\n",
       "      <td>5</td>\n",
       "      <td>1</td>\n",
       "      <td>32</td>\n",
       "      <td>33</td>\n",
       "      <td>3</td>\n",
       "      <td>1</td>\n",
       "      <td>1</td>\n",
       "      <td>2.0</td>\n",
       "      <td>3.0</td>\n",
       "      <td>3.0</td>\n",
       "      <td>...</td>\n",
       "      <td>1.0</td>\n",
       "      <td>-0.982462</td>\n",
       "      <td>-0.235567</td>\n",
       "      <td>1.5</td>\n",
       "      <td>1.0</td>\n",
       "      <td>NaN</td>\n",
       "      <td>NaN</td>\n",
       "      <td>0</td>\n",
       "      <td>2.0</td>\n",
       "      <td>2.0</td>\n",
       "    </tr>\n",
       "  </tbody>\n",
       "</table>\n",
       "<p>5 rows × 476 columns</p>\n",
       "</div>"
      ],
      "text/plain": [
       "   SN_2  Questionnaire  gn  ds  District  Province  A1_1  A1_2  A1_3  A1_4  \\\n",
       "1     1              1  32  33         3         1     1   2.0   3.0   5.0   \n",
       "2     2              1  32  33         3         1     1   2.0   3.0   3.0   \n",
       "3     3              1  32  33         3         1     1   2.0   3.0   3.0   \n",
       "4     4              1  32  33         3         1     1   2.0   3.0   3.0   \n",
       "5     5              1  32  33         3         1     1   2.0   3.0   3.0   \n",
       "\n",
       "    ...    trust_eth  reconcile1  reconcile2  reconcile2add  reconcile1add  \\\n",
       "1   ...          2.0    1.559590   -0.047157            1.5            2.5   \n",
       "2   ...          2.0    0.038614   -0.125119            1.5            1.5   \n",
       "3   ...          2.0    0.311233   -0.532862            1.5            1.5   \n",
       "4   ...          2.0    0.038614   -0.125119            1.5            1.5   \n",
       "5   ...          1.0   -0.982462   -0.235567            1.5            1.0   \n",
       "\n",
       "   tol_buddhist tol_christ prewar rights_sinhaleseALL ethnic2  \n",
       "1           NaN        NaN      0                 3.0     2.0  \n",
       "2           NaN        NaN      0                 3.0     2.0  \n",
       "3           NaN        NaN      0                 2.0     2.0  \n",
       "4           NaN        NaN      0                 2.0     2.0  \n",
       "5           NaN        NaN      0                 2.0     2.0  \n",
       "\n",
       "[5 rows x 476 columns]"
      ]
     },
     "execution_count": 3,
     "metadata": {},
     "output_type": "execute_result"
    }
   ],
   "source": [
    "df.head()"
   ]
  },
  {
   "cell_type": "code",
   "execution_count": 4,
   "metadata": {},
   "outputs": [],
   "source": [
    "# sem (distress <- war gender age edu eduf) \n",
    "# (growth1 <- distress war )\n",
    "# (growth2 <- distress war )\n",
    "# (rights_sinhalese <- war distress growth1 growth2 gender age edu eduf), \n",
    "# stand\n",
    "# cov(e.distress*e.growth1)\n",
    "# cov(e.distress*e.growth2)\n",
    "# cov(e.growth1*e.growth2)\n",
    "# ;\n",
    "# #delimit cr \n",
    "# estat gof, stats(indices residuals)"
   ]
  },
  {
   "cell_type": "code",
   "execution_count": 5,
   "metadata": {},
   "outputs": [],
   "source": [
    "# for i in df.columns:\n",
    "#     print(i)"
   ]
  },
  {
   "cell_type": "code",
   "execution_count": 6,
   "metadata": {},
   "outputs": [],
   "source": [
    "# growth\n",
    "# growthf1\n",
    "# growthf2\n",
    "# growth1factor\n",
    "# growth2factor\n",
    "# growth1\n",
    "# growth2"
   ]
  },
  {
   "cell_type": "code",
   "execution_count": 7,
   "metadata": {},
   "outputs": [],
   "source": [
    "# df['my_growth1']=(df['E2a']+df['E2c']+df['E2f']+df['E2g']+df['E2i']+df['E2j'])/6\n",
    "# df['my_growth2']=(df['E2b']+df['E2d']+df['E2e']+df['E2h'])/4"
   ]
  },
  {
   "cell_type": "code",
   "execution_count": 8,
   "metadata": {},
   "outputs": [
    {
     "data": {
      "text/plain": [
       "(359, 20)"
      ]
     },
     "execution_count": 8,
     "metadata": {},
     "output_type": "execute_result"
    }
   ],
   "source": [
    "# men har du kun termiler her?\n",
    "#keep if tamil2==1 Carolin\n",
    "#df_carolin = df[df['tamil2']==1][['rights_sinhalese','distress','war','gender','age','edu','eduf','growth1', 'growth2']].dropna().copy()\n",
    "\n",
    "df_carolin = Es_non_norm = df[df['tamil2']==1][['rights_sinhalese','distress','war','gender','age','edu','eduf','growth1', 'growth2',\n",
    "                                  'E2a','E2c','E2f','E2g','E2i','E2j','E2b','E2d','E2e','E2h']].dropna().copy()\n",
    "\n",
    "# full additive index\n",
    "df_carolin['growth_full'] = (df_carolin['E2a']+df_carolin['E2c']+df_carolin['E2f']+df_carolin['E2g']+\n",
    "                             df_carolin['E2i']+df_carolin['E2j'] + df_carolin['E2b']+df_carolin['E2d']+\n",
    "                             df_carolin['E2e']+df_carolin['E2h'])/10\n",
    "\n",
    "\n",
    "#df_carolin = df[['rights_sinhalese','distress','war','gender','age','edu','eduf','growth1', 'growth2']].copy()\n",
    "\n",
    "#religiosity\n",
    "df_carolin.shape"
   ]
  },
  {
   "cell_type": "markdown",
   "metadata": {},
   "source": [
    "# Some data exploration:"
   ]
  },
  {
   "cell_type": "code",
   "execution_count": 9,
   "metadata": {},
   "outputs": [],
   "source": [
    "from mlxtend.feature_selection import SequentialFeatureSelector as sfs\n",
    "from mlxtend.plotting import plot_sequential_feature_selection as plot_sfs\n",
    "from sklearn import linear_model"
   ]
  },
  {
   "cell_type": "code",
   "execution_count": 10,
   "metadata": {},
   "outputs": [
    {
     "data": {
      "image/png": "[encoded data removed]",
      "text/plain": [
       "<Figure size 648x648 with 2 Axes>"
      ]
     },
     "metadata": {},
     "output_type": "display_data"
    }
   ],
   "source": [
    "# make a corr plot:\n",
    "plt.figure(figsize=[9,9])\n",
    "sns.heatmap(df_carolin.corr(), cmap=\"RdBu\")\n",
    "plt.show()"
   ]
  },
  {
   "cell_type": "markdown",
   "metadata": {},
   "source": [
    "## feature selection1:"
   ]
  },
  {
   "cell_type": "code",
   "execution_count": 11,
   "metadata": {},
   "outputs": [
    {
     "name": "stderr",
     "output_type": "stream",
     "text": [
      "[Parallel(n_jobs=6)]: Done   8 out of  19 | elapsed:    0.2s remaining:    0.3s\n",
      "[Parallel(n_jobs=6)]: Done  19 out of  19 | elapsed:    0.5s finished\n",
      "\n",
      "[2018-12-10 23:17:55] Features: 1/19 -- score: -0.8294071685705934[Parallel(n_jobs=6)]: Done   7 out of  18 | elapsed:    0.3s remaining:    0.5s\n",
      "[Parallel(n_jobs=6)]: Done  18 out of  18 | elapsed:    0.7s finished\n",
      "\n",
      "[2018-12-10 23:17:55] Features: 2/19 -- score: -0.8217423541990158[Parallel(n_jobs=6)]: Done   6 out of  17 | elapsed:    0.2s remaining:    0.3s\n",
      "[Parallel(n_jobs=6)]: Done  17 out of  17 | elapsed:    0.5s finished\n",
      "\n",
      "[2018-12-10 23:17:56] Features: 3/19 -- score: -0.8133355629419958[Parallel(n_jobs=6)]: Done   5 out of  16 | elapsed:    0.2s remaining:    0.3s\n",
      "[Parallel(n_jobs=6)]: Done  16 out of  16 | elapsed:    0.5s finished\n",
      "\n",
      "[2018-12-10 23:17:57] Features: 4/19 -- score: -0.8092890723128875[Parallel(n_jobs=6)]: Done   4 out of  15 | elapsed:    0.1s remaining:    0.3s\n",
      "[Parallel(n_jobs=6)]: Done  12 out of  15 | elapsed:    0.3s remaining:    0.1s\n",
      "[Parallel(n_jobs=6)]: Done  15 out of  15 | elapsed:    0.4s finished\n",
      "\n",
      "[2018-12-10 23:17:57] Features: 5/19 -- score: -0.8043770035240889[Parallel(n_jobs=6)]: Done   3 out of  14 | elapsed:    0.2s remaining:    0.6s\n",
      "[Parallel(n_jobs=6)]: Done  11 out of  14 | elapsed:    0.3s remaining:    0.1s\n",
      "[Parallel(n_jobs=6)]: Done  14 out of  14 | elapsed:    0.5s finished\n",
      "\n",
      "[2018-12-10 23:17:58] Features: 6/19 -- score: -0.8022422901407552[Parallel(n_jobs=6)]: Done   9 out of  13 | elapsed:    0.4s remaining:    0.2s\n",
      "[Parallel(n_jobs=6)]: Done  13 out of  13 | elapsed:    0.4s finished\n",
      "\n",
      "[2018-12-10 23:17:59] Features: 7/19 -- score: -0.7950803774298094[Parallel(n_jobs=6)]: Done   8 out of  12 | elapsed:    0.2s remaining:    0.1s\n",
      "[Parallel(n_jobs=6)]: Done  12 out of  12 | elapsed:    0.3s finished\n",
      "\n",
      "[2018-12-10 23:17:59] Features: 8/19 -- score: -0.7968709854771522[Parallel(n_jobs=6)]: Done   6 out of  11 | elapsed:    0.2s remaining:    0.1s\n",
      "[Parallel(n_jobs=6)]: Done  11 out of  11 | elapsed:    0.2s finished\n",
      "\n",
      "[2018-12-10 23:17:59] Features: 9/19 -- score: -0.8010486770739759[Parallel(n_jobs=6)]: Done   5 out of  10 | elapsed:    0.1s remaining:    0.1s\n",
      "[Parallel(n_jobs=6)]: Done  10 out of  10 | elapsed:    0.2s finished\n",
      "\n",
      "[2018-12-10 23:18:00] Features: 10/19 -- score: -0.806242485448364[Parallel(n_jobs=6)]: Done   3 out of   9 | elapsed:    0.2s remaining:    0.3s\n",
      "[Parallel(n_jobs=6)]: Done   9 out of   9 | elapsed:    0.3s finished\n",
      "\n",
      "[2018-12-10 23:18:00] Features: 11/19 -- score: -0.8109868937904517[Parallel(n_jobs=6)]: Done   2 out of   8 | elapsed:    0.1s remaining:    0.4s\n",
      "[Parallel(n_jobs=6)]: Done   8 out of   8 | elapsed:    0.2s finished\n",
      "\n",
      "[2018-12-10 23:18:01] Features: 12/19 -- score: -0.8106480980716079[Parallel(n_jobs=6)]: Done   4 out of   7 | elapsed:    0.2s remaining:    0.2s\n",
      "[Parallel(n_jobs=6)]: Done   7 out of   7 | elapsed:    0.3s finished\n",
      "\n",
      "[2018-12-10 23:18:01] Features: 13/19 -- score: -0.808442763570348[Parallel(n_jobs=6)]: Done   3 out of   6 | elapsed:    0.2s remaining:    0.2s\n",
      "[Parallel(n_jobs=6)]: Done   6 out of   6 | elapsed:    0.3s finished\n",
      "\n",
      "[2018-12-10 23:18:01] Features: 14/19 -- score: -0.8100775651790615[Parallel(n_jobs=5)]: Done   2 out of   5 | elapsed:    0.2s remaining:    0.2s\n",
      "[Parallel(n_jobs=5)]: Done   5 out of   5 | elapsed:    0.2s remaining:    0.0s\n",
      "[Parallel(n_jobs=5)]: Done   5 out of   5 | elapsed:    0.2s finished\n",
      "\n",
      "[2018-12-10 23:18:02] Features: 15/19 -- score: -0.814320519343722[Parallel(n_jobs=4)]: Done   4 out of   4 | elapsed:    0.1s finished\n",
      "\n",
      "[2018-12-10 23:18:02] Features: 16/19 -- score: -0.814320519343722[Parallel(n_jobs=3)]: Done   3 out of   3 | elapsed:    0.1s finished\n",
      "\n",
      "[2018-12-10 23:18:02] Features: 17/19 -- score: -0.8225561260300893[Parallel(n_jobs=2)]: Done   2 out of   2 | elapsed:    0.1s finished\n",
      "\n",
      "[2018-12-10 23:18:02] Features: 18/19 -- score: -0.8225561260300894"
     ]
    },
    {
     "name": "stdout",
     "output_type": "stream",
     "text": [
      "\n",
      "minutes it took: 0.14361458619435627\n",
      "\n"
     ]
    },
    {
     "name": "stderr",
     "output_type": "stream",
     "text": [
      "[Parallel(n_jobs=1)]: Done   1 out of   1 | elapsed:    0.0s remaining:    0.0s\n",
      "[Parallel(n_jobs=1)]: Done   1 out of   1 | elapsed:    0.0s finished\n",
      "\n",
      "[2018-12-10 23:18:03] Features: 19/19 -- score: -0.8323524668502793"
     ]
    }
   ],
   "source": [
    "X = df_carolin.drop(columns='rights_sinhalese', axis=1)\n",
    "Y = df_carolin['rights_sinhalese']\n",
    "\n",
    "time_start = time.time()\n",
    "\n",
    "sfs_f = sfs(estimator = linear_model.LinearRegression(), k_features= 'best', forward = True, verbose = 2, scoring = 'neg_mean_squared_error', cv = 10, n_jobs = 6)\n",
    "\n",
    "sfs_f = sfs_f.fit(X,Y)\n",
    "\n",
    "\n",
    "time_stop = time.time()\n",
    "time_to_finish = time_stop - time_start\n",
    "\n",
    "print('\\nminutes it took: {}\\n'. format(time_to_finish/60))"
   ]
  },
  {
   "cell_type": "code",
   "execution_count": 25,
   "metadata": {},
   "outputs": [],
   "source": [
    "def first_best(selector = sfs_f):\n",
    "\n",
    "    result = selector.get_metric_dict()[1]['avg_score']\n",
    "\n",
    "    for i in np.arange(1,len(selector.k_feature_idx_)+1):\n",
    "\n",
    "        if selector.get_metric_dict()[i]['avg_score'] >= result: # > if not a neg score, ex AUC_score\n",
    "\n",
    "            result = selector.get_metric_dict()[i]['avg_score']\n",
    "            feature_index = selector.get_metric_dict()[i]['feature_idx']\n",
    "            feature_names = selector.get_metric_dict()[i]['feature_names']\n",
    "            n_features = len(feature_index)\n",
    "\n",
    "        else:\n",
    "            break\n",
    "     \n",
    "    return([n_features,result,feature_index,feature_names])"
   ]
  },
  {
   "cell_type": "code",
   "execution_count": 26,
   "metadata": {},
   "outputs": [
    {
     "data": {
      "text/plain": [
       "[7,\n",
       " -0.7950803774298094,\n",
       " (0, 3, 4, 7, 13, 14, 16),\n",
       " ('distress', 'age', 'edu', 'growth2', 'E2j', 'E2b', 'E2e')]"
      ]
     },
     "execution_count": 26,
     "metadata": {},
     "output_type": "execute_result"
    }
   ],
   "source": [
    "best_set = first_best(selector = sfs_f)\n",
    "best_set"
   ]
  },
  {
   "cell_type": "code",
   "execution_count": 27,
   "metadata": {},
   "outputs": [],
   "source": [
    "def plot_seq_fs():\n",
    "\n",
    "    list_of_means = []\n",
    "    list_of_std_dev = []\n",
    "    list_of_n = []\n",
    "\n",
    "    for i in np.arange(1,len(sfs_f.get_metric_dict())+1):\n",
    "\n",
    "        list_of_means.append(sfs_f.get_metric_dict()[i]['cv_scores'].mean())\n",
    "        list_of_std_dev.append(sfs_f.get_metric_dict()[i]['std_dev']) # but why is it not 2*std_err?\n",
    "        list_of_n.append(i)\n",
    "\n",
    "    colors = sns.palettes.color_palette(palette = \"hls\", n_colors = 2)    \n",
    "\n",
    "    plt.figure(figsize=[15,5])    \n",
    "\n",
    "    x = np.array(list_of_n)\n",
    "    y = np.array(list_of_means)\n",
    "\n",
    "    y_upper = y + np.array(list_of_std_dev) # * 2) \n",
    "    y_lower = y - np.array(list_of_std_dev) #* 2)\n",
    "\n",
    "    plt.plot(x,y, '-o' ,color = colors[1])\n",
    "    #plt.plot(x, y_upper, x, y_lower, color=colors[1], alpha = 0.4)\n",
    "\n",
    "    plt.fill_between(x, y_lower, y_upper, color='lightgrey', alpha = 0.4, label = '95% Confidence Interval')\n",
    "\n",
    "    plt.vlines(best_set[0], y_lower.min(), y_upper.max() , colors[0], 'dashed', alpha = 0.8, label = 'Optimal N of Features')\n",
    "    \n",
    "    plt.ylim(y_lower.min()*2,y_upper.max()/2)\n",
    "    \n",
    "    plt.ylabel('Metric')\n",
    "    plt.xlabel('Number of Features')\n",
    "    plt.title('Sequential (Forward) Feature Selection')\n",
    "\n",
    "    sns.despine(left = True, bottom = True)\n",
    "    plt.legend(frameon = False)\n",
    "    plt.show()"
   ]
  },
  {
   "cell_type": "code",
   "execution_count": 28,
   "metadata": {},
   "outputs": [
    {
     "data": {
      "image/png": "[encoded data removed]",
      "text/plain": [
       "<Figure size 1080x360 with 1 Axes>"
      ]
     },
     "metadata": {},
     "output_type": "display_data"
    }
   ],
   "source": [
    "plot_seq_fs()"
   ]
  },
  {
   "cell_type": "markdown",
   "metadata": {},
   "source": [
    "## feature selection2: no additive index'"
   ]
  },
  {
   "cell_type": "code",
   "execution_count": 29,
   "metadata": {},
   "outputs": [
    {
     "name": "stderr",
     "output_type": "stream",
     "text": [
      "[Parallel(n_jobs=6)]: Done   5 out of  16 | elapsed:    0.1s remaining:    0.2s\n",
      "[Parallel(n_jobs=6)]: Done  16 out of  16 | elapsed:    0.4s finished\n",
      "\n",
      "[2018-12-10 23:23:21] Features: 1/16 -- score: -0.8294071685705934[Parallel(n_jobs=6)]: Done   4 out of  15 | elapsed:    0.2s remaining:    0.4s\n",
      "[Parallel(n_jobs=6)]: Done  12 out of  15 | elapsed:    0.3s remaining:    0.1s\n",
      "[Parallel(n_jobs=6)]: Done  15 out of  15 | elapsed:    0.3s finished\n",
      "\n",
      "[2018-12-10 23:23:22] Features: 2/16 -- score: -0.8217423541990158[Parallel(n_jobs=6)]: Done   3 out of  14 | elapsed:    0.2s remaining:    0.6s\n",
      "[Parallel(n_jobs=6)]: Done  11 out of  14 | elapsed:    0.3s remaining:    0.1s\n",
      "[Parallel(n_jobs=6)]: Done  14 out of  14 | elapsed:    0.3s finished\n",
      "\n",
      "[2018-12-10 23:23:22] Features: 3/16 -- score: -0.8133355629419958[Parallel(n_jobs=6)]: Done   9 out of  13 | elapsed:    0.3s remaining:    0.1s\n",
      "[Parallel(n_jobs=6)]: Done  13 out of  13 | elapsed:    0.4s finished\n",
      "\n",
      "[2018-12-10 23:23:23] Features: 4/16 -- score: -0.8092890723128873[Parallel(n_jobs=6)]: Done   8 out of  12 | elapsed:    0.3s remaining:    0.1s\n",
      "[Parallel(n_jobs=6)]: Done  12 out of  12 | elapsed:    0.4s finished\n",
      "\n",
      "[2018-12-10 23:23:23] Features: 5/16 -- score: -0.8043770035240889[Parallel(n_jobs=6)]: Done   6 out of  11 | elapsed:    0.2s remaining:    0.2s\n",
      "[Parallel(n_jobs=6)]: Done  11 out of  11 | elapsed:    0.3s finished\n",
      "\n",
      "[2018-12-10 23:23:24] Features: 6/16 -- score: -0.8022422901407553[Parallel(n_jobs=6)]: Done   5 out of  10 | elapsed:    0.2s remaining:    0.2s\n",
      "[Parallel(n_jobs=6)]: Done  10 out of  10 | elapsed:    0.3s finished\n",
      "\n",
      "[2018-12-10 23:23:24] Features: 7/16 -- score: -0.7978102343483315[Parallel(n_jobs=6)]: Done   3 out of   9 | elapsed:    0.2s remaining:    0.4s\n",
      "[Parallel(n_jobs=6)]: Done   9 out of   9 | elapsed:    0.3s finished\n",
      "\n",
      "[2018-12-10 23:23:25] Features: 8/16 -- score: -0.8000450916752907[Parallel(n_jobs=6)]: Done   2 out of   8 | elapsed:    0.2s remaining:    0.6s\n",
      "[Parallel(n_jobs=6)]: Done   8 out of   8 | elapsed:    0.3s finished\n",
      "\n",
      "[2018-12-10 23:23:25] Features: 9/16 -- score: -0.8028430199055429[Parallel(n_jobs=6)]: Done   4 out of   7 | elapsed:    0.2s remaining:    0.1s\n",
      "[Parallel(n_jobs=6)]: Done   7 out of   7 | elapsed:    0.2s finished\n",
      "\n",
      "[2018-12-10 23:23:26] Features: 10/16 -- score: -0.8067677149318764[Parallel(n_jobs=6)]: Done   3 out of   6 | elapsed:    0.2s remaining:    0.2s\n",
      "[Parallel(n_jobs=6)]: Done   6 out of   6 | elapsed:    0.3s finished\n",
      "\n",
      "[2018-12-10 23:23:26] Features: 11/16 -- score: -0.8120257153559616[Parallel(n_jobs=5)]: Done   2 out of   5 | elapsed:    0.1s remaining:    0.2s\n",
      "[Parallel(n_jobs=5)]: Done   5 out of   5 | elapsed:    0.2s remaining:    0.0s\n",
      "[Parallel(n_jobs=5)]: Done   5 out of   5 | elapsed:    0.2s finished\n",
      "\n",
      "[2018-12-10 23:23:26] Features: 12/16 -- score: -0.8167386434663024[Parallel(n_jobs=4)]: Done   4 out of   4 | elapsed:    0.1s finished\n",
      "\n",
      "[2018-12-10 23:23:27] Features: 13/16 -- score: -0.8158866487324863[Parallel(n_jobs=3)]: Done   3 out of   3 | elapsed:    0.1s finished\n",
      "\n",
      "[2018-12-10 23:23:27] Features: 14/16 -- score: -0.8133953076929397[Parallel(n_jobs=2)]: Done   2 out of   2 | elapsed:    0.1s finished\n"
     ]
    },
    {
     "name": "stdout",
     "output_type": "stream",
     "text": [
      "\n",
      "minutes it took: 0.10323286851247152\n",
      "\n"
     ]
    },
    {
     "name": "stderr",
     "output_type": "stream",
     "text": [
      "\n",
      "[2018-12-10 23:23:27] Features: 15/16 -- score: -0.814320519343722[Parallel(n_jobs=1)]: Done   1 out of   1 | elapsed:    0.0s remaining:    0.0s\n",
      "[Parallel(n_jobs=1)]: Done   1 out of   1 | elapsed:    0.0s finished\n",
      "\n",
      "[2018-12-10 23:23:27] Features: 16/16 -- score: -0.8225561260300894"
     ]
    }
   ],
   "source": [
    "X = df_carolin.drop(columns=['rights_sinhalese','growth1','growth2','growth_full'], axis=1)\n",
    "Y = df_carolin['rights_sinhalese']\n",
    "\n",
    "time_start = time.time()\n",
    "\n",
    "sfs_f = sfs(estimator = linear_model.LinearRegression(), k_features= 'best', forward = True, verbose = 2, scoring = 'neg_mean_squared_error', cv = 10, n_jobs = 6)\n",
    "\n",
    "sfs_f = sfs_f.fit(X,Y)\n",
    "\n",
    "\n",
    "time_stop = time.time()\n",
    "time_to_finish = time_stop - time_start\n",
    "\n",
    "print('\\nminutes it took: {}\\n'. format(time_to_finish/60))"
   ]
  },
  {
   "cell_type": "code",
   "execution_count": 30,
   "metadata": {},
   "outputs": [
    {
     "data": {
      "text/plain": [
       "[7,\n",
       " -0.7978102343483315,\n",
       " (0, 3, 4, 11, 12, 13, 14),\n",
       " ('distress', 'age', 'edu', 'E2j', 'E2b', 'E2d', 'E2e')]"
      ]
     },
     "execution_count": 30,
     "metadata": {},
     "output_type": "execute_result"
    }
   ],
   "source": [
    "best_set = first_best(selector = sfs_f)\n",
    "best_set"
   ]
  },
  {
   "cell_type": "code",
   "execution_count": 31,
   "metadata": {},
   "outputs": [
    {
     "data": {
      "image/png": "[encoded data removed]",
      "text/plain": [
       "<Figure size 1080x360 with 1 Axes>"
      ]
     },
     "metadata": {},
     "output_type": "display_data"
    }
   ],
   "source": [
    "plot_seq_fs()"
   ]
  },
  {
   "cell_type": "markdown",
   "metadata": {},
   "source": [
    "'E2b', 'E2d', 'E2e' er fra growth2\n",
    "\n",
    "'E2j' er fra growth3"
   ]
  },
  {
   "cell_type": "markdown",
   "metadata": {},
   "source": [
    "# PCA:"
   ]
  },
  {
   "cell_type": "code",
   "execution_count": 16,
   "metadata": {},
   "outputs": [],
   "source": [
    "\n",
    "# growthf1 + 2 eller growthfactor1 + 2 måske er PCA'erne..\n",
    "\n",
    "# *generate two different growth variables \n",
    "# ***PCF analysis \n",
    "# factor E2a-E2j if tamil2, pcf blanks(0.3)\n",
    "# rotate, promax blanks(0.3)\n",
    "# predict growth1factor growth2factor \n",
    "# //two factors \n",
    "\n",
    "# //addive index\n",
    "# alpha E2a E2c E2f E2g E2i E2j //0.83\n",
    "# alpha E2b E2d E2e E2h //0.77\n",
    "\n",
    "# gen growth1=(E2a+E2c+E2f+E2g+E2i+E2j)/6\n",
    "# gen growth2=(E2b+E2d+E2e+E2h)/4\n",
    "\n",
    "## men vi kan da lige så godt bruge PCA'erne hvis de er der?"
   ]
  },
  {
   "cell_type": "code",
   "execution_count": 33,
   "metadata": {},
   "outputs": [],
   "source": [
    "Es_non_norm = df_carolin[['E2a','E2c','E2f','E2g','E2i','E2j','E2b','E2d','E2e','E2h']]\n",
    "var_names =  Es_non_norm.columns\n",
    "\n",
    "Es = (Es_non_norm-Es_non_norm.mean())/Es_non_norm.std() # Tror den her er bedst\n",
    "\n",
    "\n",
    "pca = decomposition.PCA()\n",
    "Es_pca = pca.fit_transform(Es)\n",
    "\n",
    "var_names =  Es.columns\n",
    "\n",
    "comps = pd.DataFrame(pca.components_,columns=var_names)\n"
   ]
  },
  {
   "cell_type": "code",
   "execution_count": 34,
   "metadata": {},
   "outputs": [
    {
     "data": {
      "image/png": "[encoded data removed]",
      "text/plain": [
       "<Figure size 432x288 with 3 Axes>"
      ]
     },
     "metadata": {},
     "output_type": "display_data"
    }
   ],
   "source": [
    "plt.axes([0.05,1.05,0.64,0.3])\n",
    "plt.title('Variance explained by principal components');\n",
    "plt.ylabel('Variance explained');\n",
    "plt.plot(pca.explained_variance_ratio_, \"-o\", color = \"darkred\") # husk!\n",
    "\n",
    "plt.axes([0.05,0.05,0.8,0.9])\n",
    "sns.heatmap(comps.T, xticklabels=range(1,11), cmap=\"RdBu_r\" )\n",
    "plt.ylabel(\"Variable\")\n",
    "plt.xlabel('Principal component');\n",
    "\n",
    "plt.show()"
   ]
  },
  {
   "cell_type": "code",
   "execution_count": null,
   "metadata": {},
   "outputs": [],
   "source": [
    "# Så PC2 passer en lille smule på hvad carolin har gjort.\n",
    "\n",
    "#growth1=(E2a+E2c+E2f+E2g+E2i+E2j)/6\n",
    "#growth2=(E2b+E2d+E2e+E2h)/4"
   ]
  },
  {
   "cell_type": "code",
   "execution_count": 35,
   "metadata": {},
   "outputs": [
    {
     "data": {
      "text/html": [
       "<div>\n",
       "<style scoped>\n",
       "    .dataframe tbody tr th:only-of-type {\n",
       "        vertical-align: middle;\n",
       "    }\n",
       "\n",
       "    .dataframe tbody tr th {\n",
       "        vertical-align: top;\n",
       "    }\n",
       "\n",
       "    .dataframe thead th {\n",
       "        text-align: right;\n",
       "    }\n",
       "</style>\n",
       "<table border=\"1\" class=\"dataframe\">\n",
       "  <thead>\n",
       "    <tr style=\"text-align: right;\">\n",
       "      <th></th>\n",
       "      <th>E2a</th>\n",
       "      <th>E2c</th>\n",
       "      <th>E2f</th>\n",
       "      <th>E2g</th>\n",
       "      <th>E2i</th>\n",
       "      <th>E2j</th>\n",
       "      <th>E2b</th>\n",
       "      <th>E2d</th>\n",
       "      <th>E2e</th>\n",
       "      <th>E2h</th>\n",
       "    </tr>\n",
       "  </thead>\n",
       "  <tbody>\n",
       "    <tr>\n",
       "      <th>0</th>\n",
       "      <td>-0.227329</td>\n",
       "      <td>-0.339192</td>\n",
       "      <td>-0.319414</td>\n",
       "      <td>-0.354551</td>\n",
       "      <td>-0.369230</td>\n",
       "      <td>-0.329526</td>\n",
       "      <td>-0.312803</td>\n",
       "      <td>-0.294661</td>\n",
       "      <td>-0.280155</td>\n",
       "      <td>-0.312192</td>\n",
       "    </tr>\n",
       "    <tr>\n",
       "      <th>1</th>\n",
       "      <td>0.536077</td>\n",
       "      <td>0.164621</td>\n",
       "      <td>0.297966</td>\n",
       "      <td>0.094354</td>\n",
       "      <td>0.142115</td>\n",
       "      <td>0.066205</td>\n",
       "      <td>-0.050619</td>\n",
       "      <td>-0.546159</td>\n",
       "      <td>-0.204082</td>\n",
       "      <td>-0.469845</td>\n",
       "    </tr>\n",
       "    <tr>\n",
       "      <th>2</th>\n",
       "      <td>0.535025</td>\n",
       "      <td>0.177940</td>\n",
       "      <td>-0.298940</td>\n",
       "      <td>-0.213593</td>\n",
       "      <td>-0.274945</td>\n",
       "      <td>-0.363508</td>\n",
       "      <td>0.526974</td>\n",
       "      <td>0.171152</td>\n",
       "      <td>-0.141184</td>\n",
       "      <td>0.111529</td>\n",
       "    </tr>\n",
       "    <tr>\n",
       "      <th>3</th>\n",
       "      <td>-0.005787</td>\n",
       "      <td>0.173805</td>\n",
       "      <td>0.127253</td>\n",
       "      <td>-0.134497</td>\n",
       "      <td>-0.233811</td>\n",
       "      <td>-0.260907</td>\n",
       "      <td>-0.024805</td>\n",
       "      <td>-0.075249</td>\n",
       "      <td>0.853269</td>\n",
       "      <td>-0.279982</td>\n",
       "    </tr>\n",
       "    <tr>\n",
       "      <th>4</th>\n",
       "      <td>-0.104935</td>\n",
       "      <td>-0.012339</td>\n",
       "      <td>0.629569</td>\n",
       "      <td>0.220241</td>\n",
       "      <td>-0.128035</td>\n",
       "      <td>-0.643418</td>\n",
       "      <td>-0.071046</td>\n",
       "      <td>0.025602</td>\n",
       "      <td>-0.204721</td>\n",
       "      <td>0.256864</td>\n",
       "    </tr>\n",
       "    <tr>\n",
       "      <th>5</th>\n",
       "      <td>-0.080392</td>\n",
       "      <td>0.776927</td>\n",
       "      <td>-0.007065</td>\n",
       "      <td>-0.361629</td>\n",
       "      <td>0.036449</td>\n",
       "      <td>-0.008114</td>\n",
       "      <td>-0.434464</td>\n",
       "      <td>0.175290</td>\n",
       "      <td>-0.191459</td>\n",
       "      <td>0.039477</td>\n",
       "    </tr>\n",
       "    <tr>\n",
       "      <th>6</th>\n",
       "      <td>0.495393</td>\n",
       "      <td>-0.197788</td>\n",
       "      <td>-0.045417</td>\n",
       "      <td>0.290090</td>\n",
       "      <td>-0.335789</td>\n",
       "      <td>0.102298</td>\n",
       "      <td>-0.569518</td>\n",
       "      <td>0.422881</td>\n",
       "      <td>0.051449</td>\n",
       "      <td>-0.014330</td>\n",
       "    </tr>\n",
       "    <tr>\n",
       "      <th>7</th>\n",
       "      <td>0.278267</td>\n",
       "      <td>-0.319237</td>\n",
       "      <td>0.324985</td>\n",
       "      <td>-0.674198</td>\n",
       "      <td>0.082902</td>\n",
       "      <td>0.174080</td>\n",
       "      <td>-0.121752</td>\n",
       "      <td>-0.117590</td>\n",
       "      <td>0.114066</td>\n",
       "      <td>0.426215</td>\n",
       "    </tr>\n",
       "    <tr>\n",
       "      <th>8</th>\n",
       "      <td>0.020904</td>\n",
       "      <td>0.208994</td>\n",
       "      <td>-0.242879</td>\n",
       "      <td>0.278490</td>\n",
       "      <td>-0.334686</td>\n",
       "      <td>0.099111</td>\n",
       "      <td>-0.122125</td>\n",
       "      <td>-0.591820</td>\n",
       "      <td>0.106451</td>\n",
       "      <td>0.566571</td>\n",
       "    </tr>\n",
       "    <tr>\n",
       "      <th>9</th>\n",
       "      <td>-0.184120</td>\n",
       "      <td>0.086591</td>\n",
       "      <td>0.374910</td>\n",
       "      <td>-0.078399</td>\n",
       "      <td>-0.681063</td>\n",
       "      <td>0.471354</td>\n",
       "      <td>0.270888</td>\n",
       "      <td>0.075109</td>\n",
       "      <td>-0.162191</td>\n",
       "      <td>-0.143348</td>\n",
       "    </tr>\n",
       "  </tbody>\n",
       "</table>\n",
       "</div>"
      ],
      "text/plain": [
       "        E2a       E2c       E2f       E2g       E2i       E2j       E2b  \\\n",
       "0 -0.227329 -0.339192 -0.319414 -0.354551 -0.369230 -0.329526 -0.312803   \n",
       "1  0.536077  0.164621  0.297966  0.094354  0.142115  0.066205 -0.050619   \n",
       "2  0.535025  0.177940 -0.298940 -0.213593 -0.274945 -0.363508  0.526974   \n",
       "3 -0.005787  0.173805  0.127253 -0.134497 -0.233811 -0.260907 -0.024805   \n",
       "4 -0.104935 -0.012339  0.629569  0.220241 -0.128035 -0.643418 -0.071046   \n",
       "5 -0.080392  0.776927 -0.007065 -0.361629  0.036449 -0.008114 -0.434464   \n",
       "6  0.495393 -0.197788 -0.045417  0.290090 -0.335789  0.102298 -0.569518   \n",
       "7  0.278267 -0.319237  0.324985 -0.674198  0.082902  0.174080 -0.121752   \n",
       "8  0.020904  0.208994 -0.242879  0.278490 -0.334686  0.099111 -0.122125   \n",
       "9 -0.184120  0.086591  0.374910 -0.078399 -0.681063  0.471354  0.270888   \n",
       "\n",
       "        E2d       E2e       E2h  \n",
       "0 -0.294661 -0.280155 -0.312192  \n",
       "1 -0.546159 -0.204082 -0.469845  \n",
       "2  0.171152 -0.141184  0.111529  \n",
       "3 -0.075249  0.853269 -0.279982  \n",
       "4  0.025602 -0.204721  0.256864  \n",
       "5  0.175290 -0.191459  0.039477  \n",
       "6  0.422881  0.051449 -0.014330  \n",
       "7 -0.117590  0.114066  0.426215  \n",
       "8 -0.591820  0.106451  0.566571  \n",
       "9  0.075109 -0.162191 -0.143348  "
      ]
     },
     "execution_count": 35,
     "metadata": {},
     "output_type": "execute_result"
    }
   ],
   "source": [
    "comps"
   ]
  },
  {
   "cell_type": "code",
   "execution_count": 36,
   "metadata": {},
   "outputs": [
    {
     "data": {
      "text/plain": [
       "array([2., 3., 0., 1.])"
      ]
     },
     "execution_count": 36,
     "metadata": {},
     "output_type": "execute_result"
    }
   ],
   "source": [
    "df_carolin['rights_sinhalese'].unique()"
   ]
  },
  {
   "cell_type": "code",
   "execution_count": 44,
   "metadata": {},
   "outputs": [
    {
     "data": {
      "image/png": "[encoded data removed]",
      "text/plain": [
       "<Figure size 1080x360 with 1 Axes>"
      ]
     },
     "metadata": {},
     "output_type": "display_data"
    }
   ],
   "source": [
    "n = len(df_carolin['rights_sinhalese'].unique())\n",
    "\n",
    "colors = sns.color_palette(\"hls\", n) #VIGTIG med 11\n",
    "#sns.set_palette(palette=my_color_map) \n",
    "\n",
    "plt.figure(figsize=[15,5])\n",
    "\n",
    "for i in range(n):\n",
    "    \n",
    "    rights_mask = df_carolin['rights_sinhalese'] == i\n",
    "    plt.scatter(Es_pca[rights_mask,0],Es_pca[rights_mask,1], c = colors[i], label = str(i+1))\n",
    "\n",
    "plt.xlabel('PCA1')\n",
    "plt.ylabel('PCA2')\n",
    "    \n",
    "plt.legend(frameon=False)\n",
    "sns.despine(left=True, bottom=True)\n",
    "\n",
    "plt.show()"
   ]
  },
  {
   "cell_type": "code",
   "execution_count": 66,
   "metadata": {},
   "outputs": [
    {
     "data": {
      "image/png": "[encoded data removed]",
      "text/plain": [
       "<Figure size 1080x360 with 1 Axes>"
      ]
     },
     "metadata": {},
     "output_type": "display_data"
    }
   ],
   "source": [
    "plt.figure(figsize=[15,5])\n",
    "\n",
    "x = df_carolin['growth1']\n",
    "y = df_carolin['growth2']\n",
    "\n",
    "\n",
    "slope, intercept, r_value, p_value, std_err = stats.linregress(x,y)\n",
    "\n",
    "        \n",
    "line=(slope*x+intercept)\n",
    "        \n",
    "label = 'Slope = ' + str(round(slope,3)) + \\\n",
    "        '\\n' + 'Intercept = ' + str(round(intercept,3)) + \\\n",
    "        '\\n' + 'R² = ' + str(round(r_value**2,3)) +\\\n",
    "        '\\n' + 'P_values = : ' + str(round(p_value,3)) +\\\n",
    "        '\\n' + 'Śtd_err = ' + str(round(std_err,3))\n",
    "\n",
    "\n",
    "plt.scatter(x,y, color = 'salmon')\n",
    "plt.plot(x, line, '-', color = 'lightblue', label = label) #, label = label_list[i])#, label = label)\n",
    "\n",
    "#plt.fill_between(x, line+(std_err*5), line-(std_err*5), color='lightgrey', alpha = 0.4, label = '95% Confidence Interval')\n",
    "\n",
    "\n",
    "plt.xlabel('growth1')\n",
    "plt.ylabel('growht2')\n",
    "\n",
    "\n",
    "plt.legend(frameon=False)\n",
    "sns.despine(left=True, bottom=True)\n",
    "\n",
    "plt.show()"
   ]
  }
 ],
 "metadata": {
  "kernelspec": {
   "display_name": "Python 3",
   "language": "python",
   "name": "python3"
  },
  "language_info": {
   "codemirror_mode": {
    "name": "ipython",
    "version": 3
   },
   "file_extension": ".py",
   "mimetype": "text/x-python",
   "name": "python",
   "nbconvert_exporter": "python",
   "pygments_lexer": "ipython3",
   "version": "3.6.6"
  }
 },
 "nbformat": 4,
 "nbformat_minor": 2
}
