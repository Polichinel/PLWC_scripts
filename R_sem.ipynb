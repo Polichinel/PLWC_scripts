{
 "cells": [
  {
   "cell_type": "code",
   "execution_count": 1,
   "metadata": {},
   "outputs": [
    {
     "name": "stderr",
     "output_type": "stream",
     "text": [
      "Installing package into ‘/home/polichinel/R/x86_64-pc-linux-gnu-library/3.4’\n",
      "(as ‘lib’ is unspecified)\n"
     ]
    }
   ],
   "source": [
    "install.packages(\"lavaan\", dependencies=TRUE)"
   ]
  },
  {
   "cell_type": "code",
   "execution_count": 2,
   "metadata": {},
   "outputs": [
    {
     "name": "stderr",
     "output_type": "stream",
     "text": [
      "This is lavaan 0.6-3\n",
      "lavaan is BETA software! Please report any bugs.\n",
      "\n",
      "Attaching package: ‘dplyr’\n",
      "\n",
      "The following objects are masked from ‘package:stats’:\n",
      "\n",
      "    filter, lag\n",
      "\n",
      "The following objects are masked from ‘package:base’:\n",
      "\n",
      "    intersect, setdiff, setequal, union\n",
      "\n"
     ]
    }
   ],
   "source": [
    "#library(sem)\n",
    "library(lavaan)\n",
    "library(dplyr)\n"
   ]
  },
  {
   "cell_type": "code",
   "execution_count": 3,
   "metadata": {},
   "outputs": [],
   "source": [
    "df <- read.csv('used.csv')"
   ]
  },
  {
   "cell_type": "code",
   "execution_count": 4,
   "metadata": {},
   "outputs": [],
   "source": [
    "df_carolin <- na.omit(df %>% filter(tamil2 == 1) %>% select(rights_sinhalese, distress, war, gender, age, edu, eduf, growth1, growth2))"
   ]
  },
  {
   "cell_type": "code",
   "execution_count": 5,
   "metadata": {},
   "outputs": [
    {
     "data": {
      "text/html": [
       "<ol class=list-inline>\n",
       "\t<li>359</li>\n",
       "\t<li>9</li>\n",
       "</ol>\n"
      ],
      "text/latex": [
       "\\begin{enumerate*}\n",
       "\\item 359\n",
       "\\item 9\n",
       "\\end{enumerate*}\n"
      ],
      "text/markdown": [
       "1. 359\n",
       "2. 9\n",
       "\n",
       "\n"
      ],
      "text/plain": [
       "[1] 359   9"
      ]
     },
     "metadata": {},
     "output_type": "display_data"
    }
   ],
   "source": [
    "dim(df_carolin)"
   ]
  },
  {
   "cell_type": "code",
   "execution_count": 6,
   "metadata": {},
   "outputs": [
    {
     "data": {
      "text/html": [
       "<dl class=dl-horizontal>\n",
       "\t<dt>b04</dt>\n",
       "\t\t<dd>-0.13948675404508</dd>\n",
       "\t<dt>b14</dt>\n",
       "\t\t<dd>-0.0685661210273252</dd>\n",
       "\t<dt>b24</dt>\n",
       "\t\t<dd>-0.152295736996587</dd>\n",
       "\t<dt>b34</dt>\n",
       "\t\t<dd>0.0959953762743493</dd>\n",
       "\t<dt>g04</dt>\n",
       "\t\t<dd>-0.144998304477185</dd>\n",
       "\t<dt>g14</dt>\n",
       "\t\t<dd>0.00966122728317884</dd>\n",
       "\t<dt>g24</dt>\n",
       "\t\t<dd>0.216959114020049</dd>\n",
       "\t<dt>g34</dt>\n",
       "\t\t<dd>0.0690062142348858</dd>\n",
       "\t<dt>b01</dt>\n",
       "\t\t<dd>0.211811415673878</dd>\n",
       "\t<dt>g01</dt>\n",
       "\t\t<dd>0.381838320779008</dd>\n",
       "\t<dt>g11</dt>\n",
       "\t\t<dd>0.014488514881212</dd>\n",
       "\t<dt>g21</dt>\n",
       "\t\t<dd>-0.29929751471697</dd>\n",
       "\t<dt>g31</dt>\n",
       "\t\t<dd>-0.0484926882390182</dd>\n",
       "\t<dt>b02</dt>\n",
       "\t\t<dd>0.255832434810658</dd>\n",
       "\t<dt>b12</dt>\n",
       "\t\t<dd>0.0524842713534194</dd>\n",
       "\t<dt>b03</dt>\n",
       "\t\t<dd>0.18912749768229</dd>\n",
       "\t<dt>b13</dt>\n",
       "\t\t<dd>0.0931893394531784</dd>\n",
       "\t<dt>Y~~Y</dt>\n",
       "\t\t<dd>0.739089103683161</dd>\n",
       "\t<dt>X1~~X1</dt>\n",
       "\t\t<dd>2.25511812639044</dd>\n",
       "\t<dt>X2~~X2</dt>\n",
       "\t\t<dd>0.99491520104829</dd>\n",
       "\t<dt>X3~~X3</dt>\n",
       "\t\t<dd>1.14341115430042</dd>\n",
       "</dl>\n"
      ],
      "text/latex": [
       "\\begin{description*}\n",
       "\\item[b04] -0.13948675404508\n",
       "\\item[b14] -0.0685661210273252\n",
       "\\item[b24] -0.152295736996587\n",
       "\\item[b34] 0.0959953762743493\n",
       "\\item[g04] -0.144998304477185\n",
       "\\item[g14] 0.00966122728317884\n",
       "\\item[g24] 0.216959114020049\n",
       "\\item[g34] 0.0690062142348858\n",
       "\\item[b01] 0.211811415673878\n",
       "\\item[g01] 0.381838320779008\n",
       "\\item[g11] 0.014488514881212\n",
       "\\item[g21] -0.29929751471697\n",
       "\\item[g31] -0.0484926882390182\n",
       "\\item[b02] 0.255832434810658\n",
       "\\item[b12] 0.0524842713534194\n",
       "\\item[b03] 0.18912749768229\n",
       "\\item[b13] 0.0931893394531784\n",
       "\\item[Y\\textbackslash{}textasciitilde\\{\\}\\textbackslash{}textasciitilde\\{\\}Y] 0.739089103683161\n",
       "\\item[X1\\textbackslash{}textasciitilde\\{\\}\\textbackslash{}textasciitilde\\{\\}X1] 2.25511812639044\n",
       "\\item[X2\\textbackslash{}textasciitilde\\{\\}\\textbackslash{}textasciitilde\\{\\}X2] 0.99491520104829\n",
       "\\item[X3\\textbackslash{}textasciitilde\\{\\}\\textbackslash{}textasciitilde\\{\\}X3] 1.14341115430042\n",
       "\\end{description*}\n"
      ],
      "text/markdown": [
       "b04\n",
       ":   -0.13948675404508b14\n",
       ":   -0.0685661210273252b24\n",
       ":   -0.152295736996587b34\n",
       ":   0.0959953762743493g04\n",
       ":   -0.144998304477185g14\n",
       ":   0.00966122728317884g24\n",
       ":   0.216959114020049g34\n",
       ":   0.0690062142348858b01\n",
       ":   0.211811415673878g01\n",
       ":   0.381838320779008g11\n",
       ":   0.014488514881212g21\n",
       ":   -0.29929751471697g31\n",
       ":   -0.0484926882390182b02\n",
       ":   0.255832434810658b12\n",
       ":   0.0524842713534194b03\n",
       ":   0.18912749768229b13\n",
       ":   0.0931893394531784Y~~Y\n",
       ":   0.739089103683161X1~~X1\n",
       ":   2.25511812639044X2~~X2\n",
       ":   0.99491520104829X3~~X3\n",
       ":   1.14341115430042\n",
       "\n"
      ],
      "text/plain": [
       "   b04    b14    b24    b34    g04    g14    g24    g34    b01    g01    g11 \n",
       "-0.139 -0.069 -0.152  0.096 -0.145  0.010  0.217  0.069  0.212  0.382  0.014 \n",
       "   g21    g31    b02    b12    b03    b13   Y~~Y X1~~X1 X2~~X2 X3~~X3 \n",
       "-0.299 -0.048  0.256  0.052  0.189  0.093  0.739  2.255  0.995  1.143 "
      ]
     },
     "metadata": {},
     "output_type": "display_data"
    }
   ],
   "source": [
    "\n",
    "Data <- data.frame(Z0 = df_carolin$gender,Z1 = df_carolin$age ,Z2 = df_carolin$edu ,Z3 = df_carolin$eduf ,X3 = df_carolin$growth2, X2 = df_carolin$growth1, X1 = df_carolin$distress, X0 = df_carolin$war, Y = df_carolin$rights_sinhalese)\n",
    "\n",
    "model <- ' Y ~ b04*X0 + b14*X1 + b24*X2 + b34*X3 + g04*Z0 + g14*Z1 + g24*Z2 + g34*Z3\n",
    "            X1 ~ b01*X0  + g01*Z0 + g11*Z1 + g21*Z2 + g31*Z3\n",
    "            X2 ~ b02*X0 + b12*X1\n",
    "            X3 ~ b03*X0 + b13*X1'\n",
    "fit <- sem(model, data=Data)\n",
    "coef(fit)"
   ]
  },
  {
   "cell_type": "code",
   "execution_count": 7,
   "metadata": {},
   "outputs": [],
   "source": [
    "# Same results as in python"
   ]
  }
 ],
 "metadata": {
  "kernelspec": {
   "display_name": "R",
   "language": "R",
   "name": "ir"
  },
  "language_info": {
   "codemirror_mode": "r",
   "file_extension": ".r",
   "mimetype": "text/x-r-source",
   "name": "R",
   "pygments_lexer": "r",
   "version": "3.4.4"
  }
 },
 "nbformat": 4,
 "nbformat_minor": 2
}
