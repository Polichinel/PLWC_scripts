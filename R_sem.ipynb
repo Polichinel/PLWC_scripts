{
 "cells": [
  {
   "cell_type": "code",
   "execution_count": 1,
   "metadata": {},
   "outputs": [
    {
     "name": "stderr",
     "output_type": "stream",
     "text": [
      "Installing package into ‘/home/polichinel/R/x86_64-pc-linux-gnu-library/3.4’\n",
      "(as ‘lib’ is unspecified)\n"
     ]
    }
   ],
   "source": [
    "install.packages(\"lavaan\", dependencies=TRUE)"
   ]
  },
  {
   "cell_type": "code",
   "execution_count": 2,
   "metadata": {},
   "outputs": [
    {
     "name": "stderr",
     "output_type": "stream",
     "text": [
      "This is lavaan 0.6-3\n",
      "lavaan is BETA software! Please report any bugs.\n",
      "\n",
      "Attaching package: ‘dplyr’\n",
      "\n",
      "The following objects are masked from ‘package:stats’:\n",
      "\n",
      "    filter, lag\n",
      "\n",
      "The following objects are masked from ‘package:base’:\n",
      "\n",
      "    intersect, setdiff, setequal, union\n",
      "\n"
     ]
    }
   ],
   "source": [
    "#library(sem)\n",
    "library(lavaan)\n",
    "library(dplyr)\n"
   ]
  },
  {
   "cell_type": "code",
   "execution_count": 3,
   "metadata": {},
   "outputs": [],
   "source": [
    "df <- read.csv('used.csv')"
   ]
  },
  {
   "cell_type": "code",
   "execution_count": 22,
   "metadata": {},
   "outputs": [],
   "source": [
    "#df_carolin <- na.omit(df %>% filter(tamil2 == 1) %>% select(rights_sinhalese, distress, war, gender, age, edu, eduf, growth1, growth2))\n",
    "df_carolin <- na.omit(df %>% filter(tamil2 == 1) %>% select(rights_sinhalese, distress, war, gender, age, edu, eduf, growth1, growth2,E2a,E2c,E2f,E2g,E2i,E2j,E2b,E2d,E2e,E2h,C30a, C30c, C30e))\n",
    "\n",
    "\n"
   ]
  },
  {
   "cell_type": "code",
   "execution_count": 17,
   "metadata": {},
   "outputs": [
    {
     "data": {
      "text/html": [
       "<ol class=list-inline>\n",
       "\t<li>359</li>\n",
       "\t<li>22</li>\n",
       "</ol>\n"
      ],
      "text/latex": [
       "\\begin{enumerate*}\n",
       "\\item 359\n",
       "\\item 22\n",
       "\\end{enumerate*}\n"
      ],
      "text/markdown": [
       "1. 359\n",
       "2. 22\n",
       "\n",
       "\n"
      ],
      "text/plain": [
       "[1] 359  22"
      ]
     },
     "metadata": {},
     "output_type": "display_data"
    }
   ],
   "source": [
    "dim(df_carolin)"
   ]
  },
  {
   "cell_type": "code",
   "execution_count": 18,
   "metadata": {},
   "outputs": [],
   "source": [
    "\n",
    "Data <- data.frame(Z0 = df_carolin$gender,Z1 = df_carolin$age ,Z2 = df_carolin$edu ,Z3 = df_carolin$eduf ,X3 = df_carolin$growth2, X2 = df_carolin$growth1, X1 = df_carolin$distress, X0 = df_carolin$war, Y = df_carolin$rights_sinhalese)\n",
    "\n",
    "model <- ' Y ~ b04*X0 + b14*X1 + b24*X2 + b34*X3 + g04*Z0 + g14*Z1 + g24*Z2 + g34*Z3\n",
    "            X1 ~ b01*X0  + g01*Z0 + g11*Z1 + g21*Z2 + g31*Z3\n",
    "            X2 ~ b02*X0 + b12*X1\n",
    "            X3 ~ b03*X0 + b13*X1'\n",
    "fit <- sem(model, data=Data)\n",
    "#coef(fit)"
   ]
  },
  {
   "cell_type": "code",
   "execution_count": 19,
   "metadata": {},
   "outputs": [
    {
     "name": "stdout",
     "output_type": "stream",
     "text": [
      "lavaan 0.6-3 ended normally after 36 iterations\n",
      "\n",
      "  Optimization method                           NLMINB\n",
      "  Number of free parameters                         21\n",
      "\n",
      "  Number of observations                           359\n",
      "\n",
      "  Estimator                                         ML\n",
      "  Model Fit Test Statistic                     190.702\n",
      "  Degrees of freedom                                 9\n",
      "  P-value (Chi-square)                           0.000\n",
      "\n",
      "Parameter Estimates:\n",
      "\n",
      "  Information                                 Expected\n",
      "  Information saturated (h1) model          Structured\n",
      "  Standard Errors                             Standard\n",
      "\n",
      "Regressions:\n",
      "                   Estimate  Std.Err  z-value  P(>|z|)\n",
      "  Y ~                                                 \n",
      "    X0       (b04)   -0.139    0.052   -2.699    0.007\n",
      "    X1       (b14)   -0.069    0.031   -2.243    0.025\n",
      "    X2       (b24)   -0.152    0.045   -3.348    0.001\n",
      "    X3       (b34)    0.096    0.042    2.262    0.024\n",
      "    Z0       (g04)   -0.145    0.098   -1.480    0.139\n",
      "    Z1       (g14)    0.010    0.003    2.880    0.004\n",
      "    Z2       (g24)    0.217    0.091    2.374    0.018\n",
      "    Z3       (g34)    0.069    0.104    0.661    0.508\n",
      "  X1 ~                                                \n",
      "    X0       (b01)    0.212    0.086    2.460    0.014\n",
      "    Z0       (g01)    0.382    0.170    2.247    0.025\n",
      "    Z1       (g11)    0.014    0.006    2.494    0.013\n",
      "    Z2       (g21)   -0.299    0.159   -1.884    0.060\n",
      "    Z3       (g31)   -0.048    0.182   -0.266    0.790\n",
      "  X2 ~                                                \n",
      "    X0       (b02)    0.256    0.057    4.457    0.000\n",
      "    X1       (b12)    0.052    0.034    1.539    0.124\n",
      "  X3 ~                                                \n",
      "    X0       (b03)    0.189    0.062    3.073    0.002\n",
      "    X1       (b13)    0.093    0.037    2.549    0.011\n",
      "\n",
      "Variances:\n",
      "                   Estimate  Std.Err  z-value  P(>|z|)\n",
      "   .Y                 0.739    0.055   13.398    0.000\n",
      "   .X1                2.255    0.168   13.398    0.000\n",
      "   .X2                0.995    0.074   13.398    0.000\n",
      "   .X3                1.143    0.085   13.398    0.000\n",
      "\n"
     ]
    }
   ],
   "source": [
    "summary(fit)"
   ]
  },
  {
   "cell_type": "code",
   "execution_count": 7,
   "metadata": {},
   "outputs": [],
   "source": [
    "# Same results as in python"
   ]
  },
  {
   "cell_type": "code",
   "execution_count": null,
   "metadata": {},
   "outputs": [],
   "source": [
    "#Try adding cotrols to X2 and X3"
   ]
  },
  {
   "cell_type": "code",
   "execution_count": 34,
   "metadata": {},
   "outputs": [],
   "source": [
    "\n",
    "Data <- data.frame(Z0 = df_carolin$gender,Z1 = df_carolin$age ,Z2 = df_carolin$edu ,Z3 = df_carolin$eduf ,X3 = df_carolin$growth2, X2 = df_carolin$growth1, X1 = df_carolin$distress, X0 = df_carolin$war, Y = df_carolin$rights_sinhalese)\n",
    "\n",
    "model <- ' Y ~ b04*X0 + b14*X1 + b24*X2 + b34*X3 + g04*Z0 + g14*Z1 + g24*Z2 + g34*Z3\n",
    "            X1 ~ b01*X0  + g01*Z0 + g11*Z1 + g21*Z2 + g31*Z3\n",
    "            X2 ~ b02*X0 + b12*X1 + g02*Z0 + g12*Z1 + g22*Z2 + g32*Z3\n",
    "            X3 ~ b03*X0 + b13*X1 + g03*Z0 + g13*Z1 + g23*Z2 + g33*Z3'\n",
    "fit <- sem(model, data=Data)"
   ]
  },
  {
   "cell_type": "code",
   "execution_count": 35,
   "metadata": {},
   "outputs": [
    {
     "name": "stdout",
     "output_type": "stream",
     "text": [
      "lavaan 0.6-3 ended normally after 57 iterations\n",
      "\n",
      "  Optimization method                           NLMINB\n",
      "  Number of free parameters                         29\n",
      "\n",
      "  Number of observations                           359\n",
      "\n",
      "  Estimator                                         ML\n",
      "  Model Fit Test Statistic                     162.694\n",
      "  Degrees of freedom                                 1\n",
      "  P-value (Chi-square)                           0.000\n",
      "\n",
      "Parameter Estimates:\n",
      "\n",
      "  Information                                 Expected\n",
      "  Information saturated (h1) model          Structured\n",
      "  Standard Errors                             Standard\n",
      "\n",
      "Regressions:\n",
      "                   Estimate  Std.Err  z-value  P(>|z|)\n",
      "  Y ~                                                 \n",
      "    X0       (b04)   -0.139    0.052   -2.699    0.007\n",
      "    X1       (b14)   -0.069    0.031   -2.222    0.026\n",
      "    X2       (b24)   -0.152    0.047   -3.274    0.001\n",
      "    X3       (b34)    0.096    0.043    2.225    0.026\n",
      "    Z0       (g04)   -0.145    0.100   -1.455    0.146\n",
      "    Z1       (g14)    0.010    0.003    2.847    0.004\n",
      "    Z2       (g24)    0.217    0.091    2.374    0.018\n",
      "    Z3       (g34)    0.069    0.105    0.657    0.511\n",
      "  X1 ~                                                \n",
      "    X0       (b01)    0.212    0.086    2.460    0.014\n",
      "    Z0       (g01)    0.382    0.170    2.247    0.025\n",
      "    Z1       (g11)    0.014    0.006    2.494    0.013\n",
      "    Z2       (g21)   -0.299    0.159   -1.884    0.060\n",
      "    Z3       (g31)   -0.048    0.182   -0.266    0.790\n",
      "  X2 ~                                                \n",
      "    X0       (b02)    0.251    0.056    4.442    0.000\n",
      "    X1       (b12)    0.080    0.034    2.329    0.020\n",
      "    Z0       (g02)   -0.204    0.111   -1.832    0.067\n",
      "    Z1       (g12)   -0.009    0.004   -2.336    0.020\n",
      "    Z2       (g22)    0.025    0.104    0.245    0.806\n",
      "    Z3       (g32)    0.254    0.118    2.147    0.032\n",
      "  X3 ~                                                \n",
      "    X0       (b03)    0.186    0.061    3.058    0.002\n",
      "    X1       (b13)    0.118    0.037    3.185    0.001\n",
      "    Z0       (g03)   -0.362    0.120   -3.020    0.003\n",
      "    Z1       (g13)   -0.007    0.004   -1.715    0.086\n",
      "    Z2       (g23)    0.005    0.112    0.043    0.966\n",
      "    Z3       (g33)    0.071    0.128    0.555    0.579\n",
      "\n",
      "Variances:\n",
      "                   Estimate  Std.Err  z-value  P(>|z|)\n",
      "   .Y                 0.739    0.055   13.398    0.000\n",
      "   .X1                2.255    0.168   13.398    0.000\n",
      "   .X2                0.952    0.071   13.398    0.000\n",
      "   .X3                1.106    0.083   13.398    0.000\n",
      "\n"
     ]
    }
   ],
   "source": [
    "summary(fit)"
   ]
  },
  {
   "cell_type": "markdown",
   "metadata": {},
   "source": [
    "# NEW MODEL:"
   ]
  },
  {
   "cell_type": "code",
   "execution_count": 36,
   "metadata": {},
   "outputs": [],
   "source": [
    "\n",
    "Data <- data.frame(Y0=df_carolin$C30a , Y1=df_carolin$C30c , X0 = df_carolin$war, X1 = df_carolin$distress, X2 = df_carolin$E2i, X3 =df_carolin$E2d , Z0 = df_carolin$gender,Z1 = df_carolin$age ,Z2 = df_carolin$edu ,Z3 = df_carolin$eduf)\n",
    "#Data = select(df_carolin, C30a, C30c ,E2i, E2i, gender, age, edu, eduf)\n",
    "\n",
    "\n",
    "model <- '  Y0 ~ b04*X0 + b14*X1 + b24*X2 + b34*X3 + g04*Z0 + g14*Z1 + g24*Z2 + g34*Z3\n",
    "            Y1 ~ b05*X0 + b15*X1 + b25*X2 + b35*X3 + g05*Z0 + g15*Z1 + g25*Z2 + g35*Z3\n",
    "            \n",
    "            X1 ~ b01*X0  + g01*Z0 + g11*Z1 + g21*Z2 + g31*Z3\n",
    "            X2 ~ b02*X0 + b12*X1\n",
    "            X3 ~ b03*X0 + b13*X1'\n",
    "fit <- sem(model, data=Data)"
   ]
  },
  {
   "cell_type": "code",
   "execution_count": 37,
   "metadata": {},
   "outputs": [
    {
     "name": "stdout",
     "output_type": "stream",
     "text": [
      "lavaan 0.6-3 ended normally after 59 iterations\n",
      "\n",
      "  Optimization method                           NLMINB\n",
      "  Number of free parameters                         31\n",
      "\n",
      "  Number of observations                           359\n",
      "\n",
      "  Estimator                                         ML\n",
      "  Model Fit Test Statistic                      85.025\n",
      "  Degrees of freedom                                 9\n",
      "  P-value (Chi-square)                           0.000\n",
      "\n",
      "Parameter Estimates:\n",
      "\n",
      "  Information                                 Expected\n",
      "  Information saturated (h1) model          Structured\n",
      "  Standard Errors                             Standard\n",
      "\n",
      "Regressions:\n",
      "                   Estimate  Std.Err  z-value  P(>|z|)\n",
      "  Y0 ~                                                \n",
      "    X0       (b04)   -0.053    0.026   -2.014    0.044\n",
      "    X1       (b14)   -0.033    0.015   -2.142    0.032\n",
      "    X2       (b24)   -0.045    0.016   -2.835    0.005\n",
      "    X3       (b34)    0.025    0.017    1.523    0.128\n",
      "    Z0       (g04)   -0.067    0.050   -1.327    0.185\n",
      "    Z1       (g14)    0.005    0.002    2.797    0.005\n",
      "    Z2       (g24)    0.100    0.047    2.147    0.032\n",
      "    Z3       (g34)    0.104    0.053    1.944    0.052\n",
      "  Y1 ~                                                \n",
      "    X0       (b05)   -0.036    0.027   -1.351    0.177\n",
      "    X1       (b15)   -0.028    0.016   -1.749    0.080\n",
      "    X2       (b25)   -0.043    0.016   -2.693    0.007\n",
      "    X3       (b35)    0.049    0.017    2.905    0.004\n",
      "    Z0       (g05)   -0.042    0.052   -0.818    0.413\n",
      "    Z1       (g15)    0.006    0.002    3.180    0.001\n",
      "    Z2       (g25)    0.090    0.048    1.870    0.062\n",
      "    Z3       (g35)    0.008    0.055    0.143    0.887\n",
      "  X1 ~                                                \n",
      "    X0       (b01)    0.212    0.086    2.460    0.014\n",
      "    Z0       (g01)    0.382    0.170    2.247    0.025\n",
      "    Z1       (g11)    0.014    0.006    2.494    0.013\n",
      "    Z2       (g21)   -0.299    0.159   -1.884    0.060\n",
      "    Z3       (g31)   -0.048    0.182   -0.266    0.790\n",
      "  X2 ~                                                \n",
      "    X0       (b02)    0.336    0.085    3.949    0.000\n",
      "    X1       (b12)    0.053    0.051    1.043    0.297\n",
      "  X3 ~                                                \n",
      "    X0       (b03)    0.151    0.081    1.863    0.062\n",
      "    X1       (b13)    0.030    0.048    0.627    0.530\n",
      "\n",
      "Covariances:\n",
      "                   Estimate  Std.Err  z-value  P(>|z|)\n",
      " .Y0 ~~                                               \n",
      "   .Y1                0.122    0.012    9.889    0.000\n",
      "\n",
      "Variances:\n",
      "                   Estimate  Std.Err  z-value  P(>|z|)\n",
      "   .Y0                0.194    0.014   13.398    0.000\n",
      "   .Y1                0.204    0.015   13.398    0.000\n",
      "   .X1                2.255    0.168   13.398    0.000\n",
      "   .X2                2.182    0.163   13.398    0.000\n",
      "   .X3                1.979    0.148   13.398    0.000\n",
      "\n"
     ]
    }
   ],
   "source": [
    "summary(fit)"
   ]
  },
  {
   "cell_type": "markdown",
   "metadata": {},
   "source": [
    "# Looking promising."
   ]
  }
 ],
 "metadata": {
  "kernelspec": {
   "display_name": "R",
   "language": "R",
   "name": "ir"
  },
  "language_info": {
   "codemirror_mode": "r",
   "file_extension": ".r",
   "mimetype": "text/x-r-source",
   "name": "R",
   "pygments_lexer": "r",
   "version": "3.4.4"
  }
 },
 "nbformat": 4,
 "nbformat_minor": 2
}
