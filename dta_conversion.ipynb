{
 "cells": [
  {
   "cell_type": "markdown",
   "metadata": {},
   "source": [
    "## Converting stata .dta files into .csv"
   ]
  },
  {
   "cell_type": "code",
   "execution_count": 4,
   "metadata": {},
   "outputs": [],
   "source": [
    "library('haven')\n",
    "\n",
    "path1 <- '/home/polichinel/Dropbox/KU/9.semester/The Political Legacies of War and Conflict/Sri Lanka Data/A and B_All_29_07_2016_FINAL_with macro.dta'\n",
    "path2 <- '/home/polichinel/Dropbox/KU/9.semester/The Political Legacies of War and Conflict/Sri Lanka Data/use_srilanka.dta'\n",
    "\n",
    "yourData1 = read_dta(path1)\n",
    "yourData2 = read_dta(path2)\n",
    "\n",
    "write.csv(yourData1, file = \"original.csv\")\n",
    "write.csv(yourData2, file = \"used.csv\")\n"
   ]
  }
 ],
 "metadata": {
  "kernelspec": {
   "display_name": "R",
   "language": "R",
   "name": "ir"
  },
  "language_info": {
   "codemirror_mode": "r",
   "file_extension": ".r",
   "mimetype": "text/x-r-source",
   "name": "R",
   "pygments_lexer": "r",
   "version": "3.4.4"
  }
 },
 "nbformat": 4,
 "nbformat_minor": 2
}
